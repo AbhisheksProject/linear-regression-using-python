{
 "cells": [
  {
   "cell_type": "markdown",
   "metadata": {},
   "source": [
    "<h1>SIMPLE LINEAR REGRESSION UISNG ORDINARY LEAST SQUARES</h1>\n",
    "<hr>"
   ]
  },
  {
   "cell_type": "markdown",
   "metadata": {},
   "source": [
    "<p><b>A project by Abhishek Chatterjee</b><br>abhishekchatterjeejit@gmail.com</p>"
   ]
  },
  {
   "cell_type": "markdown",
   "metadata": {},
   "source": [
    "<h2>INTRODUCTION</h2>\n",
    "<p>Regression is one of the most important algorithm in the field of machine learning. Regression is used to predict real value output.That means the output of a regression model is continuous.. </p>\n",
    "\n",
    "<p><b>Mathematical Form : </b><br>\n",
    "\\begin{equation*}\n",
    "h\\theta(x) = \\theta_0 + \\theta_1.x_1 + \\theta_2.x_2 + \\theta_3.x_3 + ...\n",
    "\\end{equation*}\n",
    "<br>\n",
    "Here $\\theta_0, \\theta_1, \\theta_2$... are called the model coefficients. In the training process, we will optimize these values to make accurate predictions.\n",
    "<br>\n",
    "$x_1, x_2, x_3$... are the input values and $h\\theta(x)$ is our prediction\n",
    "</p>\n",
    "\n",
    "<p><b>Simplifying the Equation : </b><br>\n",
    "This is our main equation\n",
    "\\begin{equation*}\n",
    "h\\theta(x) = \\theta_0 + \\theta_1.x_1 + \\theta_2.x_2 + \\theta_3.x_3 + ...\n",
    "\\end{equation*}\n",
    "<br>\n",
    "To simplyfy this equation lets say we add $x_0$ in the equation and set the value of $x_0 = 1$. So the equation is now\n",
    "\\begin{equation*}\n",
    "h\\theta(x) = \\theta_0.x_0 + \\theta_1.x_1 + \\theta_2.x_2 + \\theta_3.x_3 + ...\n",
    "\\end{equation*}\n",
    "<br>\n",
    "It is clear that the equation is same as earlier.\n",
    "<br>\n",
    "Now lets assume a vector $X$. This vector contains all the features. So the vector looks like this<br>\n",
    "\\begin{bmatrix}\n",
    "x_0\\\\\n",
    "x_1\\\\\n",
    "x_2\\\\\n",
    "\\vdots\\\\\n",
    "\\end{bmatrix}\n",
    "<br>\n",
    "Also assume a vector $\\theta$. This vector contains all the $\\theta$ values ($\\theta_0, \\theta_1, \\theta_2...$). So the vector looks like<br>\n",
    "\\begin{bmatrix}\n",
    "\\theta_0\\\\\n",
    "\\theta_1\\\\\n",
    "\\theta_2\\\\\n",
    "\\vdots\\\\\n",
    "\\end{bmatrix}\n",
    "<br>\n",
    "So we know\n",
    "\\begin{equation*}\n",
    "h\\theta(x) = \\theta_0.x_0 + \\theta_1.x_1 + \\theta_2.x_2 + \\theta_3.x_3 + ...\n",
    "\\end{equation*}\n",
    "<br>\n",
    "Or we can write\n",
    "\\begin{equation*}\n",
    "h\\theta(x) = \\theta^T.X\n",
    "\\end{equation*}\n",
    "<br>\n",
    "</p>\n",
    "\n",
    "<p>In this simple project I'm going to build a regression model using ordinary least squares. The programming language, that I'm going to use in this project is <b>Python 3</b>. Python is a very powerful and popular programming language, especially for machine learning. It provides a ton of libraries that make the whole process of developing the model simple and fast. The libraries that I'm using in this project are <b>numpy, pandas and matplotlib.</b></p>\n",
    "\n",
    "<p><b>Numpy</b> is a package for scientific calculation in python. It is the library that provides a multidimensional array object, various linear algebra and statistical operations. In this project, I'm going to use numpy for different mathematical calculations and also for storing the data.</p>\n",
    "\n",
    "<p><b>Pandas</b> is another python package used in machine learning projects. Pandas is an open source, high-performance data structure. Here in this project, I'm going to use it for reading data and storing the data.</p>\n",
    "\n",
    "<p><b>Matplotlib</b> is a very popular python package for data visualization. Here I'm going to use it for visualizing the data for making better understanding of the data.</p>\n",
    "<hr>"
   ]
  },
  {
   "cell_type": "markdown",
   "metadata": {
    "collapsed": true
   },
   "source": [
    "<h2>DEPENDENCIES</h2>\n",
    "<p>For this project we need 3 python packages, and these are <b>Numpy, Pandas and Matplotlib.</b>In this part we will add these packages to our project.</p>"
   ]
  },
  {
   "cell_type": "code",
   "execution_count": 2,
   "metadata": {
    "collapsed": true
   },
   "outputs": [],
   "source": [
    "#Adding numpy as np\n",
    "import numpy as np\n",
    "#Adding pandas as pd\n",
    "import pandas as pd\n",
    "#Adding matplotlib as plt\n",
    "#Pyplot is a part of matplotlib. It provides some basic methods that we are going to use to visualize the data\n",
    "import matplotlib.pyplot as plt"
   ]
  },
  {
   "cell_type": "markdown",
   "metadata": {},
   "source": [
    "<h2>COST FUNCTION</h2>\n",
    "<p>Cost function is function that is used for calculating the error of out model. Here in this project we will use a method called <b>Sum of Squared Errors.</b> It is a very popular method for calculating error for regression model.</p>\n",
    "\n",
    "<p><b>Mathematical Form : </b>\n",
    "\\begin{equation*}\n",
    "J(\\theta_0, \\theta_1 ...) = \\frac{1}{2m} \\sum_{i=1}^{m} (h\\theta(x^i) - y^i)^2\n",
    "\\end{equation*}\n",
    "<br>\n",
    "Here $J$ is the cost function and $m$ is the number of samples we have in the dataset\n",
    "</p>\n",
    "\n",
    "<p>This is the general formula for calculating cost function. In this project, we will use a modified version of this equation. We will use vectorized method for calculating the cost function. This approach is computationally faster compare to the normal approach. So using the vectorized method we can write the cost as given below.</p>\n",
    "\n",
    "\\begin{equation*}\n",
    "J(\\theta) = \\frac{1}{2m} \\sum_{i=1}^{m} (\\theta^T.X - y)^2\n",
    "\\end{equation*}"
   ]
  },
  {
   "cell_type": "code",
   "execution_count": 3,
   "metadata": {
    "collapsed": true
   },
   "outputs": [],
   "source": [
    "#This is the code for the cost function\n",
    "#Here I'm using the numpy dot method to find the product of the two matrices/vectors\n",
    "#Also I'm using the numpy sum method to find the sum of the matrix/vector\n",
    "def cost(X,y,theta):\n",
    "    return (1/(2*len(X))) * np.sum(((np.dot(X,theta))-y)**2)"
   ]
  },
  {
   "cell_type": "markdown",
   "metadata": {},
   "source": [
    "<hr>"
   ]
  },
  {
   "cell_type": "markdown",
   "metadata": {},
   "source": [
    "<h2>OPTIMIZATION FUNCTION</h2>\n",
    "\n",
    "<p>Optimization function is the that is used to optimize the cost function. In this project we are going to use <b>Gradient Descent</b> optimization method. It is a very powerful and popular method for optimizing cost functions.</p>\n",
    "\n",
    "<p><b>Mathematical Form :</b>\n",
    "\n",
    "\\begin{equation*}\n",
    "\\theta_j := \\theta_j - \\alpha\\frac{\\partial}{\\partial\\theta_j} J(\\theta_0, \\theta_1, ...)\n",
    "\\end{equation*}\n",
    "<br>\n",
    "Here $j=0,1,2...$ and $\\alpha$ is the learninig rate\n",
    "<br>\n",
    "By solving the equation, we get\n",
    "\\begin{equation*}\n",
    "\\theta_0 := \\theta_0 - \\alpha\\frac{1}{m}\\sum_{i=1}^{m}[h\\theta(x^i)-y^i]\n",
    "\\end{equation*}\n",
    "and\n",
    "\\begin{equation*}\n",
    "\\theta_1 := \\theta_1 - \\alpha\\frac{1}{m}\\sum_{i=1}^{m}[h\\theta(x^i)-y^i]X^i\n",
    "\\end{equation*}\n",
    "...\n",
    "<br>\n",
    "Or using the vectorized implementation, we can write it as \n",
    "\\begin{equation*}\n",
    "\\theta_j := \\theta_j - \\alpha\\frac{1}{m}\\sum_{i=1}^{m}[\\theta^T.X-y]X_j\n",
    "\\end{equation*}\n",
    "</p>"
   ]
  },
  {
   "cell_type": "code",
   "execution_count": 4,
   "metadata": {
    "collapsed": true
   },
   "outputs": [],
   "source": [
    "#This is the optimize function\n",
    "#Here max_iter is the number of iterations and alpha is the learning rate\n",
    "def optimize(X,y,theta,max_iter,alpha):\n",
    "    for i in range(max_iter):\n",
    "        A = np.subtract(np.dot(X,theta),y)\n",
    "        delta = (1/len(X)) * (np.transpose(np.dot(np.transpose(A),X)))\n",
    "        theta = theta - (alpha * delta)\n",
    "    return theta"
   ]
  },
  {
   "cell_type": "markdown",
   "metadata": {
    "collapsed": true
   },
   "source": [
    "<h2>VISUALIZATION OF THE DATA</h2>\n",
    "<p>In this part, we will visualize the data using matplotlib</p>"
   ]
  },
  {
   "cell_type": "code",
   "execution_count": 17,
   "metadata": {},
   "outputs": [
    {
     "data": {
      "image/png": "[encoded data removed]",
      "text/plain": [
       "<matplotlib.figure.Figure at 0x2a4124b3ac8>"
      ]
     },
     "metadata": {},
     "output_type": "display_data"
    }
   ],
   "source": [
    "#Here I'm using the read_csv method privided with pandas\n",
    "#This method is used in read csv files\n",
    "data = pd.read_csv('data.csv')\n",
    "\n",
    "#Here I'm splitting the data into two sepatate vectors\n",
    "X = data['time']\n",
    "y = data['score']\n",
    "\n",
    "#Here I'm using matplotlib to print a graph showing the realationship between X and y\n",
    "plt.scatter(X,y)\n",
    "plt.title(\"Visualizing the dataset by plotting a graph and showing the relationship between the two features\")\n",
    "plt.xlabel(\"Score\")\n",
    "plt.ylabel(\"Time\")\n",
    "plt.show()"
   ]
  },
  {
   "cell_type": "markdown",
   "metadata": {},
   "source": [
    "<h2>REGRESSION</h2>\n",
    "<p>In this part, we will use the methods to do the regression</p>"
   ]
  },
  {
   "cell_type": "code",
   "execution_count": 18,
   "metadata": {},
   "outputs": [],
   "source": [
    "#Converting it into a pandas dataframe\n",
    "X = X.to_frame()\n",
    "\n",
    "#Inserting a column in the features\n",
    "#Remember when we are simplyfing the hypothesis equation, we add a new feature X0 and we set its value to 1 always\n",
    "#That is why we add a new value with a default value 1\n",
    "X.insert(0,'sample', value=1)\n",
    "\n",
    "#Here we are converting the pandas dataframe to a numpy array\n",
    "X = X.values\n",
    "y = y.values\n",
    "\n",
    "#Here we are rehaping y\n",
    "y = np.reshape(y, (100,1))\n",
    "\n",
    "#Initializing theta with value 0\n",
    "theta = np.array([[0],[0]])\n",
    "\n",
    "#Calling all methods and saving the values in variables\n",
    "initailCost = cost(X,y,theta)\n",
    "theta = optimize(X,y,theta,1000,0.0001)\n",
    "finalCost = cost(X,y,theta)"
   ]
  },
  {
   "cell_type": "code",
   "execution_count": 20,
   "metadata": {},
   "outputs": [
    {
     "name": "stdout",
     "output_type": "stream",
     "text": [
      "Initially the cost was 2782.553917241607\n",
      "After training the model, the new cost is 56.3163353935547 and the new value of theta is [[ 0.05905856]\n",
      " [ 1.47833133]]\n"
     ]
    }
   ],
   "source": [
    "#Here we are printing the values\n",
    "print(\"Initially the cost was {initialCost}\".format(initialCost=initailCost))\n",
    "print(\"After training the model, the new cost is {finalCost} and the new value of theta is {theta}\".format(finalCost=finalCost,theta=theta))"
   ]
  },
  {
   "cell_type": "code",
   "execution_count": null,
   "metadata": {
    "collapsed": true
   },
   "outputs": [],
   "source": []
  }
 ],
 "metadata": {
  "kernelspec": {
   "display_name": "Python 3",
   "language": "python",
   "name": "python3"
  },
  "language_info": {
   "codemirror_mode": {
    "name": "ipython",
    "version": 3
   },
   "file_extension": ".py",
   "mimetype": "text/x-python",
   "name": "python",
   "nbconvert_exporter": "python",
   "pygments_lexer": "ipython3",
   "version": "3.6.3"
  }
 },
 "nbformat": 4,
 "nbformat_minor": 2
}
